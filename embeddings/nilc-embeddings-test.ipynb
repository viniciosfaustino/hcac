{
 "cells": [
  {
   "cell_type": "code",
   "execution_count": 2,
   "metadata": {},
   "outputs": [],
   "source": [
    "from gensim.models import KeyedVectors"
   ]
  },
  {
   "cell_type": "code",
   "execution_count": 3,
   "metadata": {},
   "outputs": [],
   "source": [
    "model = KeyedVectors.load_word2vec_format('skip_s50.txt')"
   ]
  },
  {
   "cell_type": "code",
   "execution_count": 6,
   "metadata": {},
   "outputs": [
    {
     "data": {
      "text/plain": [
       "array([ 0.0049543,  0.5256   , -1.0004   ,  0.89948  , -0.5344   ,\n",
       "       -1.4516   , -1.2755   ,  0.26637  ,  0.8965   ,  0.57347  ,\n",
       "       -0.159    , -0.3739   ,  1.1191   ,  0.72066  ,  0.52139  ,\n",
       "        0.80746  ,  0.63597  ,  0.67999  ,  0.85021  ,  0.54959  ,\n",
       "        0.18311  , -0.10554  ,  0.1946   , -0.29446  , -1.0999   ,\n",
       "        0.42609  ,  0.48039  , -0.096735 ,  0.11439  , -0.23047  ,\n",
       "       -0.51209  , -0.17473  , -0.25777  ,  0.41444  ,  0.40672  ,\n",
       "       -0.53928  ,  1.3757   ,  0.016423 ,  0.57053  ,  0.37983  ,\n",
       "        0.23399  ,  0.54612  , -0.4122   ,  0.045455 ,  0.26486  ,\n",
       "       -0.067537 ,  0.70285  ,  1.1557   , -0.64259  , -0.047269 ],\n",
       "      dtype=float32)"
      ]
     },
     "execution_count": 6,
     "metadata": {},
     "output_type": "execute_result"
    }
   ],
   "source": [
    "model.word_vec(\"this\")"
   ]
  },
  {
   "cell_type": "code",
   "execution_count": 39,
   "metadata": {},
   "outputs": [],
   "source": [
    "similar = [ str(s[0].encode(\"utf-8\")) for s in model.most_similar(\"macaco\")] "
   ]
  },
  {
   "cell_type": "code",
   "execution_count": 40,
   "metadata": {},
   "outputs": [
    {
     "data": {
      "text/plain": [
       "['porco-espinho',\n",
       " 'gato',\n",
       " 'sapo',\n",
       " 'coiote',\n",
       " 'garoto-voador',\n",
       " 'cachorro',\n",
       " 'pega-macaco',\n",
       " 'p\\xc3\\xa1ssaro',\n",
       " 'porco-aranha',\n",
       " 'mangusto']"
      ]
     },
     "execution_count": 40,
     "metadata": {},
     "output_type": "execute_result"
    }
   ],
   "source": [
    "similar"
   ]
  },
  {
   "cell_type": "code",
   "execution_count": null,
   "metadata": {},
   "outputs": [],
   "source": []
  }
 ],
 "metadata": {
  "kernelspec": {
   "display_name": "Python 2",
   "language": "python",
   "name": "python2"
  },
  "language_info": {
   "codemirror_mode": {
    "name": "ipython",
    "version": 2
   },
   "file_extension": ".py",
   "mimetype": "text/x-python",
   "name": "python",
   "nbconvert_exporter": "python",
   "pygments_lexer": "ipython2",
   "version": "2.7.13"
  }
 },
 "nbformat": 4,
 "nbformat_minor": 2
}
