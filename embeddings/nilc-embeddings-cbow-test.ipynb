{
 "cells": [
  {
   "cell_type": "code",
   "execution_count": 1,
   "metadata": {},
   "outputs": [],
   "source": [
    "from gensim.models import KeyedVectors\n",
    "import numpy as np"
   ]
  },
  {
   "cell_type": "code",
   "execution_count": 2,
   "metadata": {},
   "outputs": [],
   "source": [
    "model = KeyedVectors.load_word2vec_format('cbow_s50.txt')"
   ]
  },
  {
   "cell_type": "code",
   "execution_count": 16,
   "metadata": {},
   "outputs": [
    {
     "data": {
      "text/plain": [
       "array([-18.348  ,  -4.2823 ,  -2.6086 ,  -2.9775 ,  -1.4875 ,  -1.2665 ,\n",
       "        -1.5785 ,   2.6764 ,  -0.88261, -23.557  ,  -7.7958 , -11.187  ,\n",
       "        -2.1286 ,  -6.8794 ,  -2.3297 ,   5.5366 ,   5.47   , -21.871  ,\n",
       "         2.253  ,   0.7273 ,   8.8346 ,  -7.8253 , -10.781  , -20.507  ,\n",
       "        -4.9467 ,  -9.8412 ,  -6.7521 ,  -4.4688 , -17.788  , -14.788  ,\n",
       "         6.5992 ,   1.5523 , -25.106  ,  -7.3791 ,   7.6575 ,  -1.4579 ,\n",
       "        20.219  ,  -1.2495 ,  23.007  ,  21.048  ,  -1.7838 ,  -4.4865 ,\n",
       "       -15.391  ,   3.0889 ,   7.641  ,  11.856  ,  -2.3788 ,  -6.5002 ,\n",
       "       -15.789  ,  -3.0364 ], dtype=float32)"
      ]
     },
     "execution_count": 16,
     "metadata": {},
     "output_type": "execute_result"
    }
   ],
   "source": [
    "model.word_vec(\"o\")"
   ]
  },
  {
   "cell_type": "code",
   "execution_count": 4,
   "metadata": {},
   "outputs": [
    {
     "data": {
      "text/plain": [
       "[(u'cansa\\xe7o.', 0.9415566921234131),\n",
       " (u't\\xe9dio', 0.8177596926689148),\n",
       " (u'nervosismo', 0.8175790905952454),\n",
       " (u'des\\xe2nimo', 0.8059468269348145),\n",
       " (u'horr\\xedssono', 0.8026047945022583),\n",
       " (u'cansada\\xe7o', 0.7994402050971985),\n",
       " (u'sono', 0.7745699882507324),\n",
       " (u'cansa\\xe3\\xa7o', 0.7738239765167236),\n",
       " (u'desconforto', 0.7727424502372742),\n",
       " (u'susto', 0.771232008934021)]"
      ]
     },
     "execution_count": 4,
     "metadata": {},
     "output_type": "execute_result"
    }
   ],
   "source": [
    "model.most_similar(\"cansaço\".decode(\"utf-8\"))\n"
   ]
  },
  {
   "cell_type": "code",
   "execution_count": 5,
   "metadata": {},
   "outputs": [],
   "source": [
    "#this is a pseudo pre processing\n",
    "a =  \"This is an example phrase.\"\n",
    "a = a.lower()\n",
    "a = a.replace(\".\",\"\").split(\" \")"
   ]
  },
  {
   "cell_type": "code",
   "execution_count": 6,
   "metadata": {},
   "outputs": [],
   "source": [
    "#this part of the code creates an array with the embeddings of the words in the sentence\n",
    "pe = []\n",
    "for w in a:    \n",
    "    pe.append(model.word_vec(str(w)))\n",
    "pe = np.array(pe)\n",
    "\n"
   ]
  },
  {
   "cell_type": "code",
   "execution_count": 7,
   "metadata": {},
   "outputs": [],
   "source": [
    "b = \"this is another example phrase to be used\"\n",
    "b = b.lower()\n",
    "b = b.replace(\".\",\"\").split(\" \")"
   ]
  },
  {
   "cell_type": "code",
   "execution_count": 8,
   "metadata": {},
   "outputs": [],
   "source": [
    "pb = []\n",
    "for w in b:    \n",
    "    pb.append(model.word_vec(str(w)))\n",
    "pb = np.array(pb)"
   ]
  },
  {
   "cell_type": "code",
   "execution_count": 9,
   "metadata": {},
   "outputs": [
    {
     "data": {
      "text/plain": [
       "(10, 100)"
      ]
     },
     "execution_count": 9,
     "metadata": {},
     "output_type": "execute_result"
    }
   ],
   "source": [
    "#this part of the code gets the max dimension among the arrays\n",
    "shapes = [pe.shape, pb.shape, (10, 100)]\n",
    "max_dimension = max(shapes)\n",
    "max_dimension"
   ]
  },
  {
   "cell_type": "code",
   "execution_count": 10,
   "metadata": {},
   "outputs": [
    {
     "data": {
      "text/plain": [
       "(8, 50)"
      ]
     },
     "execution_count": 10,
     "metadata": {},
     "output_type": "execute_result"
    }
   ],
   "source": [
    "pb.shape"
   ]
  },
  {
   "cell_type": "code",
   "execution_count": 11,
   "metadata": {},
   "outputs": [
    {
     "data": {
      "text/plain": [
       "[3, 2]"
      ]
     },
     "execution_count": 11,
     "metadata": {},
     "output_type": "execute_result"
    }
   ],
   "source": [
    "a = [2,3]\n",
    "b = [3,2]\n",
    "max(a,b)"
   ]
  },
  {
   "cell_type": "code",
   "execution_count": 12,
   "metadata": {},
   "outputs": [],
   "source": [
    "#this part of the code reshapes a numpy array with de max dimensions\n",
    "zero = np.zeros(max_dimension[0]*max_dimension[1]).reshape(max_dimension)\n",
    "zero[0:pe.shape[0],0:pe.shape[1]] += pe"
   ]
  },
  {
   "cell_type": "code",
   "execution_count": 13,
   "metadata": {},
   "outputs": [
    {
     "data": {
      "text/plain": [
       "(8, 50)"
      ]
     },
     "execution_count": 13,
     "metadata": {},
     "output_type": "execute_result"
    }
   ],
   "source": [
    "max(pe.shape, pb.shape)"
   ]
  },
  {
   "cell_type": "code",
   "execution_count": 14,
   "metadata": {},
   "outputs": [
    {
     "name": "stdout",
     "output_type": "stream",
     "text": [
      "0 a\n",
      "1 b\n",
      "2 c\n",
      "3 d\n"
     ]
    }
   ],
   "source": [
    "a = ['a','b','c','d']\n",
    "for i,j in enumerate(a):\n",
    "    print i,j\n",
    "    \n",
    "    "
   ]
  },
  {
   "cell_type": "code",
   "execution_count": 15,
   "metadata": {},
   "outputs": [
    {
     "ename": "LookupError",
     "evalue": "unknown encoding: unicode",
     "output_type": "error",
     "traceback": [
      "\u001b[0;31m---------------------------------------------------------------------------\u001b[0m",
      "\u001b[0;31mLookupError\u001b[0m                               Traceback (most recent call last)",
      "\u001b[0;32m<ipython-input-15-9af72c79b44d>\u001b[0m in \u001b[0;36m<module>\u001b[0;34m()\u001b[0m\n\u001b[1;32m      1\u001b[0m \u001b[0;32mimport\u001b[0m \u001b[0mstring\u001b[0m\u001b[0;34m\u001b[0m\u001b[0m\n\u001b[1;32m      2\u001b[0m \u001b[0ma\u001b[0m \u001b[0;34m=\u001b[0m \u001b[0;34m\"ausdhaushda.,asdasdijÃ\"\u001b[0m\u001b[0;34m\u001b[0m\u001b[0m\n\u001b[0;32m----> 3\u001b[0;31m \u001b[0ma\u001b[0m\u001b[0;34m.\u001b[0m\u001b[0mdecode\u001b[0m\u001b[0;34m(\u001b[0m\u001b[0;34m\"unicode\"\u001b[0m\u001b[0;34m)\u001b[0m\u001b[0;34m\u001b[0m\u001b[0m\n\u001b[0m",
      "\u001b[0;31mLookupError\u001b[0m: unknown encoding: unicode"
     ]
    }
   ],
   "source": [
    "import string\n",
    "a = \"ausdhaushda.,asdasdijÃ\"\n",
    "a.decode(\"unicode\")"
   ]
  },
  {
   "cell_type": "code",
   "execution_count": null,
   "metadata": {},
   "outputs": [],
   "source": []
  }
 ],
 "metadata": {
  "kernelspec": {
   "display_name": "Python 3",
   "language": "python",
   "name": "python3"
  },
  "language_info": {
   "codemirror_mode": {
    "name": "ipython",
    "version": 2
   },
   "file_extension": ".py",
   "mimetype": "text/x-python",
   "name": "python",
   "nbconvert_exporter": "python",
   "pygments_lexer": "ipython2",
   "version": "2.7.13"
  }
 },
 "nbformat": 4,
 "nbformat_minor": 2
}
