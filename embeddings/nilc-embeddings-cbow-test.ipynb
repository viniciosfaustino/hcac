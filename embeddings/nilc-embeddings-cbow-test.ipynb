{
 "cells": [
  {
   "cell_type": "code",
   "execution_count": 1,
   "metadata": {},
   "outputs": [],
   "source": [
    "from gensim.models import KeyedVectors\n",
    "import numpy as np"
   ]
  },
  {
   "cell_type": "code",
   "execution_count": 2,
   "metadata": {},
   "outputs": [],
   "source": [
    "model = KeyedVectors.load_word2vec_format('cbow_s50.txt')"
   ]
  },
  {
   "cell_type": "code",
   "execution_count": 21,
   "metadata": {},
   "outputs": [
    {
     "data": {
      "text/plain": [
       "array([-2.3474  , -1.4471  ,  6.8739  ,  3.0397  , -3.9761  , -0.088891,\n",
       "       -4.7467  , -1.2119  , -3.2168  ,  4.7925  , -3.0869  , -2.272   ,\n",
       "       -1.4531  ,  0.69402 ,  3.4478  , 14.569   ,  2.2052  ,  2.3791  ,\n",
       "        1.9222  , -1.7272  ,  0.25541 ,  1.505   , -0.10134 , -5.6894  ,\n",
       "       -3.4768  , -2.2244  , -1.6355  ,  0.64277 , -4.7224  ,  5.3635  ,\n",
       "       -5.8818  ,  2.5559  ,  3.4978  , -1.583   ,  1.1459  , -0.40005 ,\n",
       "        2.4263  ,  1.2518  ,  1.1147  , -8.5022  ,  3.9851  , -1.0353  ,\n",
       "       -8.3363  ,  3.8333  ,  5.8101  , -2.1996  ,  8.6977  ,  0.51976 ,\n",
       "       -1.3559  , -1.7683  ], dtype=float32)"
      ]
     },
     "execution_count": 21,
     "metadata": {},
     "output_type": "execute_result"
    }
   ],
   "source": [
    "model.word_vec(\"vc\")"
   ]
  },
  {
   "cell_type": "code",
   "execution_count": 25,
   "metadata": {},
   "outputs": [
    {
     "data": {
      "text/plain": [
       "[(u'nestes', 0.9029341340065002),\n",
       " (u'v\\xe1rios', 0.8972163200378418),\n",
       " (u'nosv\\xe1rios', 0.8951574563980103),\n",
       " (u'nesses', 0.8881098628044128),\n",
       " (u'noutros', 0.8844908475875854),\n",
       " (u'algunsdos', 0.8793933391571045),\n",
       " (u'os', 0.8763060569763184),\n",
       " (u'nosnovos', 0.8748139142990112),\n",
       " (u'\\u2022outros', 0.8723593950271606),\n",
       " (u'muitosdos', 0.871418297290802)]"
      ]
     },
     "execution_count": 25,
     "metadata": {},
     "output_type": "execute_result"
    }
   ],
   "source": [
    "model.most_similar(\"nos\")"
   ]
  },
  {
   "cell_type": "code",
   "execution_count": 20,
   "metadata": {},
   "outputs": [],
   "source": [
    "#this is a pseudo pre processing\n",
    "a =  \"This is an example phrase.\"\n",
    "a = a.lower()\n",
    "a = a.replace(\".\",\"\").split(\" \")"
   ]
  },
  {
   "cell_type": "code",
   "execution_count": 7,
   "metadata": {},
   "outputs": [],
   "source": [
    "#this part of the code creates an array with the embeddings of the words in the sentence\n",
    "pe = []\n",
    "for w in a:    \n",
    "    pe.append(model.word_vec(str(w)))\n",
    "pe = np.array(pe)\n",
    "\n"
   ]
  },
  {
   "cell_type": "code",
   "execution_count": 8,
   "metadata": {},
   "outputs": [],
   "source": [
    "b = \"this is another example phrase to be used\"\n",
    "b = b.lower()\n",
    "b = b.replace(\".\",\"\").split(\" \")"
   ]
  },
  {
   "cell_type": "code",
   "execution_count": 9,
   "metadata": {},
   "outputs": [],
   "source": [
    "pb = []\n",
    "for w in b:    \n",
    "    pb.append(model.word_vec(str(w)))\n",
    "pb = np.array(pb)"
   ]
  },
  {
   "cell_type": "code",
   "execution_count": 19,
   "metadata": {},
   "outputs": [
    {
     "data": {
      "text/plain": [
       "(10, 100)"
      ]
     },
     "execution_count": 19,
     "metadata": {},
     "output_type": "execute_result"
    }
   ],
   "source": [
    "#this part of the code gets the max dimension among the arrays\n",
    "shapes = [pe.shape, pb.shape, (10, 100)]\n",
    "max_dimension = max(shapes)\n",
    "max_dimension"
   ]
  },
  {
   "cell_type": "code",
   "execution_count": 11,
   "metadata": {},
   "outputs": [
    {
     "data": {
      "text/plain": [
       "(8, 50)"
      ]
     },
     "execution_count": 11,
     "metadata": {},
     "output_type": "execute_result"
    }
   ],
   "source": [
    "pb.shape"
   ]
  },
  {
   "cell_type": "code",
   "execution_count": 12,
   "metadata": {},
   "outputs": [
    {
     "data": {
      "text/plain": [
       "[3, 2]"
      ]
     },
     "execution_count": 12,
     "metadata": {},
     "output_type": "execute_result"
    }
   ],
   "source": [
    "a = [2,3]\n",
    "b = [3,2]\n",
    "max(a,b)"
   ]
  },
  {
   "cell_type": "code",
   "execution_count": 13,
   "metadata": {},
   "outputs": [],
   "source": [
    "#this part of the code reshapes a numpy array with de max dimensions\n",
    "zero = np.zeros(max_dimension[0]*max_dimension[1]).reshape(max_dimension)\n",
    "zero[0:pe.shape[0],0:pe.shape[1]] += pe"
   ]
  },
  {
   "cell_type": "code",
   "execution_count": 14,
   "metadata": {},
   "outputs": [
    {
     "data": {
      "text/plain": [
       "(8, 50)"
      ]
     },
     "execution_count": 14,
     "metadata": {},
     "output_type": "execute_result"
    }
   ],
   "source": [
    "max(pe.shape, pb.shape)"
   ]
  },
  {
   "cell_type": "code",
   "execution_count": 26,
   "metadata": {},
   "outputs": [
    {
     "name": "stdout",
     "output_type": "stream",
     "text": [
      "0 a\n",
      "1 b\n",
      "2 c\n",
      "3 d\n"
     ]
    }
   ],
   "source": [
    "a = ['a','b','c','d']\n",
    "for i,j in enumerate(a):\n",
    "    print i,j\n",
    "    \n",
    "    "
   ]
  },
  {
   "cell_type": "code",
   "execution_count": null,
   "metadata": {},
   "outputs": [],
   "source": []
  }
 ],
 "metadata": {
  "kernelspec": {
   "display_name": "Python 2",
   "language": "python",
   "name": "python2"
  },
  "language_info": {
   "codemirror_mode": {
    "name": "ipython",
    "version": 2
   },
   "file_extension": ".py",
   "mimetype": "text/x-python",
   "name": "python",
   "nbconvert_exporter": "python",
   "pygments_lexer": "ipython2",
   "version": "2.7.13"
  }
 },
 "nbformat": 4,
 "nbformat_minor": 2
}
